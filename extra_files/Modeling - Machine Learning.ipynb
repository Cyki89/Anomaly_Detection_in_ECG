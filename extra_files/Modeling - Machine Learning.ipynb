{
 "cells": [
  {
   "cell_type": "code",
   "execution_count": 2,
   "metadata": {},
   "outputs": [],
   "source": [
    "import numpy as np\n",
    "import pandas as pd\n",
    "import matplotlib.pyplot as plt\n",
    "import seaborn as sns\n",
    "import math\n",
    "from sklearn.metrics import mean_absolute_error, accuracy_score\n",
    "from catboost import CatBoostClassifier\n",
    "from sklearn.tree import DecisionTreeClassifier\n",
    "from xgboost import XGBClassifier\n",
    "from sklearn.ensemble import RandomForestClassifier, AdaBoostClassifier\n",
    "from modeling import select_best_classifier"
   ]
  },
  {
   "cell_type": "markdown",
   "metadata": {},
   "source": [
    "### Load Data"
   ]
  },
  {
   "cell_type": "code",
   "execution_count": 6,
   "metadata": {},
   "outputs": [
    {
     "name": "stdout",
     "output_type": "stream",
     "text": [
      "(4250, 140) (375, 140) (375, 140)\n",
      "(4250,) (375,) (375,)\n"
     ]
    }
   ],
   "source": [
    "# load previously prepared data for machine learning models\n",
    "X_train = np.genfromtxt('./data_preprocessed/X_train', delimiter=',')\n",
    "X_val = np.genfromtxt('./data_preprocessed/X_val', delimiter=',')\n",
    "X_test = np.genfromtxt('./data_preprocessed/X_test', delimiter=',')\n",
    "\n",
    "y_train = np.genfromtxt('./data_preprocessed/y_train', delimiter=',')\n",
    "y_val = np.genfromtxt('./data_preprocessed/y_val', delimiter=',')\n",
    "y_test = np.genfromtxt('./data_preprocessed/y_test', delimiter=',')\n",
    "\n",
    "# look at shape loaded data\n",
    "print(X_train.shape, X_val.shape, X_test.shape)\n",
    "print(y_train.shape, y_val.shape, y_test.shape)"
   ]
  },
  {
   "cell_type": "markdown",
   "metadata": {},
   "source": [
    "### Scaling"
   ]
  },
  {
   "cell_type": "code",
   "execution_count": 7,
   "metadata": {},
   "outputs": [],
   "source": [
    "from sklearn.base import BaseEstimator, TransformerMixin\n",
    "from sklearn.preprocessing import MinMaxScaler, StandardScaler\n",
    "\n",
    "class MultipleColumnScaler(BaseEstimator, TransformerMixin):\n",
    "    ''' take multiple columns and scaling it's keeping original ratio between them '''\n",
    "    def __init__(self, scaler):\n",
    "        self.scaler = scaler\n",
    "        \n",
    "    def fit(self, X, y=None):\n",
    "        columns_merged = X[:,0]\n",
    "        for i in range(1, X.shape[1]):\n",
    "            columns_merged = np.concatenate((columns_merged, X[:,i]), axis=0)\n",
    "        self.scaler.fit(columns_merged.reshape(-1,1))\n",
    "        return self.scaler\n",
    "    \n",
    "    def transform(self, X, y=None):\n",
    "        X_new = self.scaler.transform(X[:, 0].reshape(-1,1))\n",
    "        for i in range(1, X.shape[1]):\n",
    "            X_curr = self.scaler.transform(X[:, i].reshape(-1,1))\n",
    "            X_new = np.concatenate((X_new, X_curr), axis=1)\n",
    "        return X_new"
   ]
  },
  {
   "cell_type": "code",
   "execution_count": 8,
   "metadata": {},
   "outputs": [],
   "source": [
    "X_scaler = MultipleColumnScaler(MinMaxScaler(feature_range=(-1,1) ) )\n",
    "X_scaler = X_scaler.fit(X_train)\n",
    "X_train_scaled = X_scaler.transform(X_train)\n",
    "X_val_scaled = X_scaler.transform(X_val)\n",
    "X_test_scaled = X_scaler.transform(X_test)"
   ]
  },
  {
   "cell_type": "code",
   "execution_count": 9,
   "metadata": {},
   "outputs": [
    {
     "name": "stdout",
     "output_type": "stream",
     "text": [
      "Train set inverse transformation error: 2.5378206490315346e-17\n",
      "Val set inverse transformation error: 2.483230499483388e-17\n",
      "Test set inverse transformation error: 2.540636574741984e-17\n"
     ]
    }
   ],
   "source": [
    "# inverse scalling\n",
    "X_train_inv = X_scaler.inverse_transform(X_train_scaled)\n",
    "X_val_inv = X_scaler.inverse_transform(X_val_scaled)\n",
    "X_test_inv = X_scaler.inverse_transform(X_test_scaled)\n",
    "\n",
    "# checking correctivness of scalling using mean square error\n",
    "print(f'Train set inverse transformation error: {mean_absolute_error(X_train.flatten(), X_train_inv.flatten())}')\n",
    "print(f'Val set inverse transformation error: {mean_absolute_error(X_val.flatten(), X_val_inv.flatten())}')\n",
    "print(f'Test set inverse transformation error: {mean_absolute_error(X_test.flatten(), X_test_inv.flatten())}')"
   ]
  },
  {
   "cell_type": "markdown",
   "metadata": {},
   "source": [
    "### RandomForest Classifier"
   ]
  },
  {
   "cell_type": "code",
   "execution_count": 12,
   "metadata": {},
   "outputs": [
    {
     "name": "stdout",
     "output_type": "stream",
     "text": [
      "[\"RandomForestClassifier{'n_estimators': 800, 'max_depth': 21, 'criterion': 'gini'}\"\n",
      " RandomForestClassifier(bootstrap=True, ccp_alpha=0.0, class_weight=None,\n",
      "                       criterion='gini', max_depth=21, max_features='auto',\n",
      "                       max_leaf_nodes=None, max_samples=None,\n",
      "                       min_impurity_decrease=0.0, min_impurity_split=None,\n",
      "                       min_samples_leaf=1, min_samples_split=2,\n",
      "                       min_weight_fraction_leaf=0.0, n_estimators=800,\n",
      "                       n_jobs=None, oob_score=False, random_state=None,\n",
      "                       verbose=0, warm_start=False)] 0.992\n"
     ]
    }
   ],
   "source": [
    "# define params for random grid search\n",
    "params_grid={\n",
    "   'n_estimators': [100, 200, 300, 400, 600, 800, 1000, 1200, 1400, 1600],\n",
    "   'max_depth': [3, 5, 7, 9, 11, 13, 15, 17, 19, 21],\n",
    "   'criterion': ['gini', 'entropy']\n",
    "}\n",
    "    \n",
    "# to safely run multiprocessing on Windows\n",
    "if __name__ == '__main__':\n",
    "    \n",
    "    # function selecting best classifiers using multiprocessing\n",
    "    best_model, best_scoring = select_best_classifier(estimator=RandomForestClassifier, \n",
    "                                                      params_grid=params_grid,\n",
    "                                                      n_iter=20, \n",
    "                                                      random_state=42,\n",
    "                                                      X_train=X_train_scaled, \n",
    "                                                      y_train=y_train, \n",
    "                                                      X_val=X_val_scaled, \n",
    "                                                      y_val=y_val, \n",
    "                                                      verbose=1,\n",
    "                                                      max_workers=1)\n",
    "    # show best selected models\n",
    "    print(best_model, best_scoring)"
   ]
  },
  {
   "cell_type": "code",
   "execution_count": null,
   "metadata": {},
   "outputs": [],
   "source": []
  }
 ],
 "metadata": {
  "kernelspec": {
   "display_name": "Python 3",
   "language": "python",
   "name": "python3"
  }
 },
 "nbformat": 4,
 "nbformat_minor": 3
}
